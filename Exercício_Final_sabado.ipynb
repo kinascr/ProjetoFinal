{
  "nbformat": 4,
  "nbformat_minor": 0,
  "metadata": {
    "colab": {
      "provenance": [],
      "include_colab_link": true
    },
    "kernelspec": {
      "name": "python3",
      "display_name": "Python 3"
    },
    "language_info": {
      "name": "python"
    }
  },
  "cells": [
    {
      "cell_type": "markdown",
      "metadata": {
        "id": "view-in-github",
        "colab_type": "text"
      },
      "source": [
        "<a href=\"https://colab.research.google.com/github/kinascr/ProjetoFinal/blob/main/Exerc%C3%ADcio_Final_sabado.ipynb\" target=\"_parent\"><img src=\"https://colab.research.google.com/assets/colab-badge.svg\" alt=\"Open In Colab\"/></a>"
      ]
    },
    {
      "cell_type": "markdown",
      "source": [
        "# Contagem de Medalhas\n",
        "\n",
        "Crie um programa que receba o número de medalhas de ouro, prata e bronze de um país nas Olimpíadas e calcule o total de medalhas.\n",
        "Quando escrever 'sair', o programa deverá encerrar e mostrar na tela o ranking de medalhas no formato:"
      ],
      "metadata": {
        "id": "RQN1e5FZY6SZ"
      }
    },
    {
      "cell_type": "code",
      "source": [
        "#Ranking de medalhas:\n",
        "#Brasil: 7 medalhas\n",
        "#França: 6 medalhas\n",
        "#Argentina: 3 medalhas"
      ],
      "metadata": {
        "id": "gCq_KLHzZSzb"
      },
      "execution_count": null,
      "outputs": []
    },
    {
      "cell_type": "code",
      "source": [
        "\n",
        "\n",
        "while True:\n",
        "    país = input(\"Digite o nome do país ou 'sair' para encerrar: \")\n",
        "    if país.lower() == 'sair':\n",
        "        break\n",
        "\n",
        "    try:\n",
        "        ouro = int(input(f\"Digite o número de medalhas de ouro de {país}: \"))\n",
        "        prata = int(input(f\"Digite o número de medalhas de prata de {país}: \"))\n",
        "        bronze = int(input(f\"Digite o número de medalhas de bronze de {país}: \"))\n",
        "        medalhas[país] = ouro + prata + bronze\n",
        "    except ValueError:\n",
        "        print(\"Entrada inválida. Digite números inteiros para as medalhas.\")\n",
        "\n",
        "if rankings:\n",
        "\n",
        "print(\" Ranking de medalhas:\")\n",
        "print(\"-\" * 30)\n",
        "for país, total in sorted(medalhas.items(), key=lambda item: item[1], reverse=True):\n",
        "    print(f\"{país}: {total} medalhas\")\n",
        "\n",
        "    print(\"-\" * 30)\n",
        "    else:\n",
        "        print(\"Nenhuma medalha foi registrada.\")\n",
        "\n",
        "\n",
        "\n"
      ],
      "metadata": {
        "id": "3v_rZ_3IDmtm",
        "outputId": "d73eacf2-09fa-4f77-fc9e-64e8ef6dcdc1",
        "colab": {
          "base_uri": "https://localhost:8080/",
          "height": 106
        }
      },
      "execution_count": 5,
      "outputs": [
        {
          "output_type": "error",
          "ename": "IndentationError",
          "evalue": "expected an indented block after 'if' statement on line 14 (<ipython-input-5-270d5c72ac48>, line 16)",
          "traceback": [
            "\u001b[0;36m  File \u001b[0;32m\"<ipython-input-5-270d5c72ac48>\"\u001b[0;36m, line \u001b[0;32m16\u001b[0m\n\u001b[0;31m    print(\" Ranking de medalhas:\")\u001b[0m\n\u001b[0m    ^\u001b[0m\n\u001b[0;31mIndentationError\u001b[0m\u001b[0;31m:\u001b[0m expected an indented block after 'if' statement on line 14\n"
          ]
        }
      ]
    },
    {
      "cell_type": "code",
      "source": [],
      "metadata": {
        "id": "8wJTbJWPEOEy"
      },
      "execution_count": null,
      "outputs": []
    }
  ]
}